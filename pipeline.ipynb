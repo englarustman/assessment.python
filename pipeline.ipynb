{
 "cells": [
  {
   "cell_type": "code",
   "execution_count": 16,
   "id": "f9e07582-0dad-4271-9577-d38c0d596c06",
   "metadata": {
    "tags": []
   },
   "outputs": [],
   "source": [
    "import pandas as pd\n",
    "\n",
    "df = pd.read_csv('Netflix TV Shows and Movies.csv')\n",
    "\n",
    "df['release_year'] = pd.to_numeric(df['release_year'], errors='coerce')\n",
    "df['runtime'] = pd.to_numeric(df['runtime'].astype(str).str.replace(\"min\", \"\"), errors='coerce')\n",
    "df['imdb_score'] = pd.to_numeric(df['imdb_score'], errors='coerce')\n",
    "df['imdb_votes'] = df['imdb_votes'].astype(str)\n",
    "df['imdb_votes'] = pd.to_numeric(df['imdb_votes'].str.replace(',', ''), errors='coerce')\n",
    "\n",
    "\n",
    "df.to_csv('netflix_data_clean.csv', index=False)"
   ]
  }
 ],
 "metadata": {
  "kernelspec": {
   "display_name": "Python 3 (ipykernel)",
   "language": "python",
   "name": "python3"
  },
  "language_info": {
   "codemirror_mode": {
    "name": "ipython",
    "version": 3
   },
   "file_extension": ".py",
   "mimetype": "text/x-python",
   "name": "python",
   "nbconvert_exporter": "python",
   "pygments_lexer": "ipython3",
   "version": "3.11.5"
  }
 },
 "nbformat": 4,
 "nbformat_minor": 5
}
